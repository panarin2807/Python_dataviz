{
 "cells": [
  {
   "cell_type": "markdown",
   "metadata": {},
   "source": [
    "# Function\n",
    "### print ชื่อ xxx นามสกุล yyy รหัส zzz\n",
    "### print เกรดวิชา Stat 1 >>> AAA"
   ]
  },
  {
   "cell_type": "markdown",
   "metadata": {},
   "source": [
    "## print string a ให้เป็นตามรูปแบบที่กำหนด\n"
   ]
  },
  {
   "cell_type": "code",
   "execution_count": 2,
   "metadata": {},
   "outputs": [
    {
     "name": "stdout",
     "output_type": "stream",
     "text": [
      "ชื่อ ภานรินทร์ นามสกุล อิ่นแก้ว รหัส 603021110-2\n"
     ]
    }
   ],
   "source": [
    "a = f'ชื่อ ภานรินทร์ นามสกุล อิ่นแก้ว รหัส 603021110-2'\n",
    "print(a)"
   ]
  },
  {
   "cell_type": "markdown",
   "metadata": {},
   "source": [
    "## แบบที่ 2"
   ]
  },
  {
   "cell_type": "code",
   "execution_count": 3,
   "metadata": {},
   "outputs": [
    {
     "name": "stdout",
     "output_type": "stream",
     "text": [
      "ชื่อ ภานรินทร์ นามสกุล อิ่นแก้ว รหัส 603021110-2\n"
     ]
    }
   ],
   "source": [
    "name = 'ภานรินทร์'\n",
    "surname = 'อิ่นแก้ว'\n",
    "ID = '603021110-2'\n",
    "\n",
    "b=f'ชื่อ {name} นามสกุล {surname} รหัส {ID}'\n",
    "print(b)"
   ]
  },
  {
   "cell_type": "markdown",
   "metadata": {},
   "source": [
    "# function template"
   ]
  },
  {
   "cell_type": "markdown",
   "metadata": {},
   "source": [
    "``` python\n",
    "    def function_name(x):\n",
    "        do_someting\n",
    "        return y\n",
    "  ```"
   ]
  },
  {
   "cell_type": "markdown",
   "metadata": {},
   "source": [
    "## normal functions"
   ]
  },
  {
   "cell_type": "markdown",
   "metadata": {},
   "source": [
    "## สิ่งสำคัญของPython คือ การที่ย่อหน้าเป็นส่วนหนึ่งของคำสั่งที่ไม่ย่อหน้า"
   ]
  },
  {
   "cell_type": "code",
   "execution_count": 4,
   "metadata": {},
   "outputs": [],
   "source": [
    "def print_line1(name,surname,ID1):\n",
    "    st = f'ชื่อ {name} นามสกุล {surname} รหัส {ID1}'\n",
    "    return st"
   ]
  },
  {
   "cell_type": "code",
   "execution_count": 5,
   "metadata": {},
   "outputs": [
    {
     "name": "stdout",
     "output_type": "stream",
     "text": [
      "ชื่อ ภานรินทร์ นามสกุล อิ่นแก้ว รหัส 603021110-2\n"
     ]
    }
   ],
   "source": [
    "print(print_line1('ภานรินทร์','อิ่นแก้ว','603021110-2'))"
   ]
  },
  {
   "cell_type": "markdown",
   "metadata": {},
   "source": []
  },
  {
   "cell_type": "markdown",
   "metadata": {},
   "source": [
    "### คุณสมบัติของฟังก์ชันในpython คือมีหรือไม่มีinputก็ได้และมีหรือไม่มีoutputก็ได้"
   ]
  },
  {
   "cell_type": "code",
   "execution_count": 6,
   "metadata": {},
   "outputs": [],
   "source": [
    "def print_2lines(name1,surname1,ID1,grade):\n",
    "    st = f'ชื่อ {name1} นามสกุล {surname1} รหัส {ID1}'\n",
    "    print(st)\n",
    "    st2 = f'เกรดวิชา stat1 >>> {grade}'\n",
    "    print(st2)"
   ]
  },
  {
   "cell_type": "code",
   "execution_count": 7,
   "metadata": {},
   "outputs": [
    {
     "name": "stdout",
     "output_type": "stream",
     "text": [
      "ชื่อ กาญจนา นามสกุล ประสาคุณ รหัส 603021855-2\n",
      "เกรดวิชา stat1 >>> A\n"
     ]
    }
   ],
   "source": [
    "print_2lines ('กาญจนา','ประสาคุณ','603021855-2','A')"
   ]
  },
  {
   "cell_type": "code",
   "execution_count": 8,
   "metadata": {},
   "outputs": [
    {
     "name": "stdout",
     "output_type": "stream",
     "text": [
      "ชื่อ ภานรินทร์ นามสกุล อิ่นแก้ว รหัส 603021110-2\n",
      "เกรดวิชา stat1 >>> B\n",
      "ชื่อ กาญจนา นามสกุล ประสาคุณ รหัส 603021855-2\n",
      "เกรดวิชา stat1 >>> C\n",
      "ชื่อ พงศ์ศิริเดช นามสกุล ศิลปษา รหัส 603021874-8\n",
      "เกรดวิชา stat1 >>> B+\n",
      "ชื่อ นพภเกตุน์ นามสกุล คนคง รหัส 603021868-3\n",
      "เกรดวิชา stat1 >>> C+\n"
     ]
    }
   ],
   "source": [
    "print_2lines ('ภานรินทร์','อิ่นแก้ว','603021110-2','B')\n",
    "print_2lines ('กาญจนา','ประสาคุณ','603021855-2','C')\n",
    "print_2lines ('พงศ์ศิริเดช','ศิลปษา','603021874-8','B+')\n",
    "print_2lines ('นพภเกตุน์','คนคง','603021868-3','C+')"
   ]
  },
  {
   "cell_type": "markdown",
   "metadata": {},
   "source": [
    "## function without input\n",
    "ชื่อตัวแปรหรือฟังก์ชันไม่สามารถเป็นตัวเลขได้"
   ]
  },
  {
   "cell_type": "code",
   "execution_count": 9,
   "metadata": {},
   "outputs": [],
   "source": [
    "def two_x_three():\n",
    "    x = 2*3\n",
    "    return x"
   ]
  },
  {
   "cell_type": "code",
   "execution_count": 10,
   "metadata": {},
   "outputs": [
    {
     "data": {
      "text/plain": [
       "6"
      ]
     },
     "execution_count": 10,
     "metadata": {},
     "output_type": "execute_result"
    }
   ],
   "source": [
    " two_x_three()"
   ]
  },
  {
   "cell_type": "markdown",
   "metadata": {},
   "source": [
    "## function without default argument\n",
    "    จะเห็นว่าเกรดเท่ากับf แปลว่า ฟังก์ชันนี้ถ้าเราไม่ใส่เกรดให้ฟังก์ชันจะใส่ค่าdefaultให้เราคือใส่fอัติโนมัติแต่ถ้าเราใส่เกรดก็จะทำงานปกติ\n",
    "   "
   ]
  },
  {
   "cell_type": "code",
   "execution_count": 11,
   "metadata": {},
   "outputs": [],
   "source": [
    "def print_2lines_default(name1,surname1,ID1,grade='F'):\n",
    "    st = f'ชื่อ {name1} นามสกุล {surname1} รหัส {ID1}'\n",
    "    print(st)\n",
    "    st2 = f'เกรดวิชา stat1 >>> {grade}'\n",
    "    print(st2)"
   ]
  },
  {
   "cell_type": "code",
   "execution_count": 12,
   "metadata": {},
   "outputs": [
    {
     "name": "stdout",
     "output_type": "stream",
     "text": [
      "ชื่อ กาญจนา นามสกุล ประสาคุณ รหัส 603021855-2\n",
      "เกรดวิชา stat1 >>> F\n"
     ]
    }
   ],
   "source": [
    "print_2lines_default('กาญจนา','ประสาคุณ','603021855-2')"
   ]
  },
  {
   "cell_type": "code",
   "execution_count": 13,
   "metadata": {},
   "outputs": [
    {
     "name": "stdout",
     "output_type": "stream",
     "text": [
      "ชื่อ กาญจนา นามสกุล ประสาคุณ รหัส 603021855-2\n",
      "เกรดวิชา stat1 >>> A\n"
     ]
    }
   ],
   "source": [
    "print_2lines_default ('กาญจนา','ประสาคุณ','603021855-2','A')"
   ]
  },
  {
   "cell_type": "markdown",
   "metadata": {},
   "source": [
    "ถ้าแบบข้างบนจะเรียงตามที่เรากำหนดไว้ แต่เราสามารถเปลี่ยนลำดับได้ถ้ารู้ว่าinputชื่ออะไร"
   ]
  },
  {
   "cell_type": "code",
   "execution_count": 14,
   "metadata": {},
   "outputs": [
    {
     "name": "stdout",
     "output_type": "stream",
     "text": [
      "ชื่อ ประสาคุณ นามสกุล กาญจนา รหัส 603021855-2\n",
      "เกรดวิชา stat1 >>> F\n"
     ]
    }
   ],
   "source": [
    "print_2lines_default (surname1 = 'กาญจนา',name1 = 'ประสาคุณ',ID1 =  '603021855-2')"
   ]
  },
  {
   "cell_type": "markdown",
   "metadata": {},
   "source": [
    "# Loop (การวนซ้ำ)"
   ]
  },
  {
   "cell_type": "markdown",
   "metadata": {},
   "source": [
    "``` Python\n",
    "for each_member in listA:\n",
    "    do somthing\n",
    "```"
   ]
  },
  {
   "cell_type": "markdown",
   "metadata": {},
   "source": [
    "ถ้าเรากดenterแล้วมันย่อหน้าไม่ต้องแก้ไขมัน มันทำเพื่อป้องกันการerror"
   ]
  },
  {
   "cell_type": "markdown",
   "metadata": {},
   "source": [
    "วนค่าในlist"
   ]
  },
  {
   "cell_type": "code",
   "execution_count": 15,
   "metadata": {},
   "outputs": [
    {
     "name": "stdout",
     "output_type": "stream",
     "text": [
      "1\n",
      "2\n",
      "3\n"
     ]
    }
   ],
   "source": [
    "for i in [1,2,3]:\n",
    "    print(i)"
   ]
  },
  {
   "cell_type": "markdown",
   "metadata": {},
   "source": [
    "string เป็น list ของ charactor"
   ]
  },
  {
   "cell_type": "code",
   "execution_count": 16,
   "metadata": {},
   "outputs": [
    {
     "name": "stdout",
     "output_type": "stream",
     "text": [
      "  T -> / \n",
      "  h -> / \n",
      "  a -> / \n",
      "  n -> / \n",
      "  a -> / \n",
      "  p -> / \n",
      "  o -> / \n",
      "  n -> / \n",
      "  g -> / \n"
     ]
    }
   ],
   "source": [
    "for i in 'Thanapong':\n",
    "    print(f'  {i} -> / ')"
   ]
  },
  {
   "cell_type": "markdown",
   "metadata": {},
   "source": [
    "ให้print เว้นวรรค 2 บรรทัด"
   ]
  },
  {
   "cell_type": "code",
   "execution_count": 17,
   "metadata": {},
   "outputs": [
    {
     "name": "stdout",
     "output_type": "stream",
     "text": [
      "  T -> / \n",
      " \n",
      "  h -> / \n",
      " \n",
      "  a -> / \n",
      " \n",
      "  n -> / \n",
      " \n",
      "  a -> / \n",
      " \n",
      "  p -> / \n",
      " \n",
      "  o -> / \n",
      " \n",
      "  n -> / \n",
      " \n",
      "  g -> / \n",
      " \n"
     ]
    }
   ],
   "source": [
    "for i in 'Thanapong':\n",
    "    print(f'  {i} -> / ')\n",
    "    print(' ')"
   ]
  },
  {
   "cell_type": "markdown",
   "metadata": {},
   "source": [
    "1. สร้าง list ชื่อเพื่อนที่อยู่ในแถวยาวเดียวกัน \n",
    "2. วนลูป print ประโยคว่า xxxเรา yyyความรู้สึก zzzเพื่อน ทุกคน\n",
    "3. วนลูป เรียก function โดยเปลี่ยนชื่อเพื่อนไปเรื่อยๆ"
   ]
  },
  {
   "cell_type": "code",
   "execution_count": 18,
   "metadata": {},
   "outputs": [
    {
     "name": "stdout",
     "output_type": "stream",
     "text": [
      " ไอซ์ รัก ไอซ์ \n",
      " ไอซ์ รัก แบงค์ \n",
      " ไอซ์ รัก ฟาง \n",
      " ไอซ์ รัก เกด \n",
      " ไอซ์ รัก โด้ \n",
      " ไอซ์ รัก นัท \n",
      " ไอซ์ รัก นกยูง \n",
      " ไอซ์ รัก บอส \n"
     ]
    }
   ],
   "source": [
    "for i in ['ไอซ์','แบงค์','ฟาง','เกด','โด้','นัท','นกยูง','บอส']:\n",
    "      print(f' ไอซ์ รัก {i} ')"
   ]
  },
  {
   "cell_type": "code",
   "execution_count": 19,
   "metadata": {},
   "outputs": [],
   "source": [
    "friend_list = ['ไอซ์','แบงค์','ฟาง','เกด','โด้','นัท','นกยูง','บอส']"
   ]
  },
  {
   "cell_type": "code",
   "execution_count": 20,
   "metadata": {},
   "outputs": [],
   "source": [
    "def print_feeling (I,feeling,friend):\n",
    "    print(f'{I} {feeling} {friend}')"
   ]
  },
  {
   "cell_type": "code",
   "execution_count": 21,
   "metadata": {},
   "outputs": [
    {
     "name": "stdout",
     "output_type": "stream",
     "text": [
      "มุทิตา รัก ฟาง\n"
     ]
    }
   ],
   "source": [
    " print_feeling('มุทิตา','รัก','ฟาง')"
   ]
  },
  {
   "cell_type": "code",
   "execution_count": 22,
   "metadata": {},
   "outputs": [
    {
     "name": "stdout",
     "output_type": "stream",
     "text": [
      "มุทิตา รัก ไอซ์\n",
      "มุทิตา รัก แบงค์\n",
      "มุทิตา รัก ฟาง\n",
      "มุทิตา รัก เกด\n",
      "มุทิตา รัก โด้\n",
      "มุทิตา รัก นัท\n",
      "มุทิตา รัก นกยูง\n",
      "มุทิตา รัก บอส\n"
     ]
    }
   ],
   "source": [
    "for f in friend_list:\n",
    "    print_feeling('มุทิตา','รัก',f)"
   ]
  },
  {
   "cell_type": "markdown",
   "metadata": {},
   "source": [
    "# Loop in Loop"
   ]
  },
  {
   "cell_type": "code",
   "execution_count": 23,
   "metadata": {},
   "outputs": [
    {
     "name": "stdout",
     "output_type": "stream",
     "text": [
      "ไอซ์ รัก ไอซ์\n",
      "ไอซ์ รัก แบงค์\n",
      "ไอซ์ รัก ฟาง\n",
      "ไอซ์ รัก เกด\n",
      "ไอซ์ รัก โด้\n",
      "ไอซ์ รัก นัท\n",
      "ไอซ์ รัก นกยูง\n",
      "ไอซ์ รัก บอส\n",
      "แบงค์ รัก ไอซ์\n",
      "แบงค์ รัก แบงค์\n",
      "แบงค์ รัก ฟาง\n",
      "แบงค์ รัก เกด\n",
      "แบงค์ รัก โด้\n",
      "แบงค์ รัก นัท\n",
      "แบงค์ รัก นกยูง\n",
      "แบงค์ รัก บอส\n",
      "ฟาง รัก ไอซ์\n",
      "ฟาง รัก แบงค์\n",
      "ฟาง รัก ฟาง\n",
      "ฟาง รัก เกด\n",
      "ฟาง รัก โด้\n",
      "ฟาง รัก นัท\n",
      "ฟาง รัก นกยูง\n",
      "ฟาง รัก บอส\n",
      "เกด รัก ไอซ์\n",
      "เกด รัก แบงค์\n",
      "เกด รัก ฟาง\n",
      "เกด รัก เกด\n",
      "เกด รัก โด้\n",
      "เกด รัก นัท\n",
      "เกด รัก นกยูง\n",
      "เกด รัก บอส\n",
      "โด้ รัก ไอซ์\n",
      "โด้ รัก แบงค์\n",
      "โด้ รัก ฟาง\n",
      "โด้ รัก เกด\n",
      "โด้ รัก โด้\n",
      "โด้ รัก นัท\n",
      "โด้ รัก นกยูง\n",
      "โด้ รัก บอส\n",
      "นัท รัก ไอซ์\n",
      "นัท รัก แบงค์\n",
      "นัท รัก ฟาง\n",
      "นัท รัก เกด\n",
      "นัท รัก โด้\n",
      "นัท รัก นัท\n",
      "นัท รัก นกยูง\n",
      "นัท รัก บอส\n",
      "นกยูง รัก ไอซ์\n",
      "นกยูง รัก แบงค์\n",
      "นกยูง รัก ฟาง\n",
      "นกยูง รัก เกด\n",
      "นกยูง รัก โด้\n",
      "นกยูง รัก นัท\n",
      "นกยูง รัก นกยูง\n",
      "นกยูง รัก บอส\n",
      "บอส รัก ไอซ์\n",
      "บอส รัก แบงค์\n",
      "บอส รัก ฟาง\n",
      "บอส รัก เกด\n",
      "บอส รัก โด้\n",
      "บอส รัก นัท\n",
      "บอส รัก นกยูง\n",
      "บอส รัก บอส\n"
     ]
    }
   ],
   "source": [
    "for name1 in friend_list:\n",
    "    for name2 in friend_list:\n",
    "        print_feeling(name1,'รัก',name2)"
   ]
  },
  {
   "cell_type": "markdown",
   "metadata": {},
   "source": [
    "# Loop in function\n",
    "การสร้างลูปในฟังก์ชัน"
   ]
  },
  {
   "cell_type": "code",
   "execution_count": 24,
   "metadata": {},
   "outputs": [],
   "source": [
    "def print_feelings(I,feeling,friends):\n",
    "    for friend in friends:\n",
    "        print(f'{I} {feeling} {friend}')"
   ]
  },
  {
   "cell_type": "code",
   "execution_count": 25,
   "metadata": {},
   "outputs": [
    {
     "name": "stdout",
     "output_type": "stream",
     "text": [
      "ไอซ์ อยากเตะ ไอซ์\n",
      "ไอซ์ อยากเตะ แบงค์\n",
      "ไอซ์ อยากเตะ ฟาง\n",
      "ไอซ์ อยากเตะ เกด\n",
      "ไอซ์ อยากเตะ โด้\n",
      "ไอซ์ อยากเตะ นัท\n",
      "ไอซ์ อยากเตะ นกยูง\n",
      "ไอซ์ อยากเตะ บอส\n"
     ]
    }
   ],
   "source": [
    " print_feelings('ไอซ์','อยากเตะ',friend_list)"
   ]
  },
  {
   "cell_type": "markdown",
   "metadata": {},
   "source": [
    "วนลูปในdict (Loop in dict)"
   ]
  },
  {
   "cell_type": "code",
   "execution_count": 26,
   "metadata": {},
   "outputs": [
    {
     "data": {
      "text/plain": [
       "{'พันทิพา': 'B', 'ศุภนิตา': 'C', 'ปนัดดา': 'A', 'ทรงกลด': 'F'}"
      ]
     },
     "execution_count": 26,
     "metadata": {},
     "output_type": "execute_result"
    }
   ],
   "source": [
    "name_grade = {'พันทิพา':'B','ศุภนิตา':'C','ปนัดดา':'A','ทรงกลด':'F'}\n",
    "name_grade"
   ]
  },
  {
   "cell_type": "code",
   "execution_count": 27,
   "metadata": {},
   "outputs": [
    {
     "data": {
      "text/plain": [
       "'A'"
      ]
     },
     "execution_count": 27,
     "metadata": {},
     "output_type": "execute_result"
    }
   ],
   "source": [
    "name_grade['ปนัดดา']"
   ]
  },
  {
   "cell_type": "markdown",
   "metadata": {},
   "source": [
    ".keys จะแสดงlistของindexทั้งหมด"
   ]
  },
  {
   "cell_type": "code",
   "execution_count": 28,
   "metadata": {},
   "outputs": [
    {
     "name": "stdout",
     "output_type": "stream",
     "text": [
      "พันทิพา\n",
      "ศุภนิตา\n",
      "ปนัดดา\n",
      "ทรงกลด\n"
     ]
    }
   ],
   "source": [
    "for i in name_grade.keys():\n",
    "    print (i)"
   ]
  },
  {
   "cell_type": "markdown",
   "metadata": {},
   "source": [
    "วนลูปได้โดยการดึง key มันออกมา"
   ]
  },
  {
   "cell_type": "code",
   "execution_count": 29,
   "metadata": {},
   "outputs": [
    {
     "data": {
      "text/plain": [
       "dict_keys(['พันทิพา', 'ศุภนิตา', 'ปนัดดา', 'ทรงกลด'])"
      ]
     },
     "execution_count": 29,
     "metadata": {},
     "output_type": "execute_result"
    }
   ],
   "source": [
    "name_grade.keys()"
   ]
  },
  {
   "cell_type": "code",
   "execution_count": 30,
   "metadata": {},
   "outputs": [
    {
     "name": "stdout",
     "output_type": "stream",
     "text": [
      " พันทิพา ได้เกรด B\n",
      " ศุภนิตา ได้เกรด C\n",
      " ปนัดดา ได้เกรด A\n",
      " ทรงกลด ได้เกรด F\n"
     ]
    }
   ],
   "source": [
    "for i in name_grade.keys():\n",
    "    print (f' {i} ได้เกรด {name_grade[i]}' )"
   ]
  },
  {
   "cell_type": "markdown",
   "metadata": {},
   "source": [
    "# Conditional (เงื่อนไข)"
   ]
  },
  {
   "cell_type": "markdown",
   "metadata": {},
   "source": [
    "# ==,!=,>=,<=,<,>"
   ]
  },
  {
   "cell_type": "markdown",
   "metadata": {},
   "source": [
    "```Python\n",
    "if condition1:\n",
    "    do something\n",
    "elif condition2:\n",
    "    do another thing\n",
    "else:\n",
    "    do ...\n",
    "```"
   ]
  },
  {
   "cell_type": "code",
   "execution_count": 31,
   "metadata": {},
   "outputs": [
    {
     "name": "stdout",
     "output_type": "stream",
     "text": [
      "ไอซ์ รัก แบงค์\n",
      "ไอซ์ รัก ฟาง\n",
      "ไอซ์ รัก เกด\n",
      "ไอซ์ รัก โด้\n",
      "ไอซ์ รัก นัท\n",
      "ไอซ์ รัก นกยูง\n",
      "ไอซ์ รัก บอส\n",
      "แบงค์ รัก ไอซ์\n",
      "แบงค์ รัก ฟาง\n",
      "แบงค์ รัก เกด\n",
      "แบงค์ รัก โด้\n",
      "แบงค์ รัก นัท\n",
      "แบงค์ รัก นกยูง\n",
      "แบงค์ รัก บอส\n",
      "ฟาง รัก ไอซ์\n",
      "ฟาง รัก แบงค์\n",
      "ฟาง รัก เกด\n",
      "ฟาง รัก โด้\n",
      "ฟาง รัก นัท\n",
      "ฟาง รัก นกยูง\n",
      "ฟาง รัก บอส\n",
      "เกด รัก ไอซ์\n",
      "เกด รัก แบงค์\n",
      "เกด รัก ฟาง\n",
      "เกด รัก โด้\n",
      "เกด รัก นัท\n",
      "เกด รัก นกยูง\n",
      "เกด รัก บอส\n",
      "โด้ รัก ไอซ์\n",
      "โด้ รัก แบงค์\n",
      "โด้ รัก ฟาง\n",
      "โด้ รัก เกด\n",
      "โด้ รัก นัท\n",
      "โด้ รัก นกยูง\n",
      "โด้ รัก บอส\n",
      "นัท รัก ไอซ์\n",
      "นัท รัก แบงค์\n",
      "นัท รัก ฟาง\n",
      "นัท รัก เกด\n",
      "นัท รัก โด้\n",
      "นัท รัก นกยูง\n",
      "นัท รัก บอส\n",
      "นกยูง รัก ไอซ์\n",
      "นกยูง รัก แบงค์\n",
      "นกยูง รัก ฟาง\n",
      "นกยูง รัก เกด\n",
      "นกยูง รัก โด้\n",
      "นกยูง รัก นัท\n",
      "นกยูง รัก บอส\n",
      "บอส รัก ไอซ์\n",
      "บอส รัก แบงค์\n",
      "บอส รัก ฟาง\n",
      "บอส รัก เกด\n",
      "บอส รัก โด้\n",
      "บอส รัก นัท\n",
      "บอส รัก นกยูง\n"
     ]
    }
   ],
   "source": [
    "for name1 in friend_list:\n",
    "    for name2 in friend_list:\n",
    "        if name1 != name2:\n",
    "            print_feeling(name1,'รัก',name2)"
   ]
  },
  {
   "cell_type": "markdown",
   "metadata": {},
   "source": [
    "หลัง if คือ True จะทำprint แต่ถ้า False ถ้าไม่แสดง print ในทางกลับกันจะไปทำในคำสั่ง else"
   ]
  },
  {
   "cell_type": "code",
   "execution_count": 32,
   "metadata": {},
   "outputs": [
    {
     "name": "stdout",
     "output_type": "stream",
     "text": [
      "Yes\n"
     ]
    }
   ],
   "source": [
    "if True:\n",
    "    print('Yes')"
   ]
  },
  {
   "cell_type": "code",
   "execution_count": 33,
   "metadata": {},
   "outputs": [],
   "source": [
    "if False:\n",
    "    print('No')"
   ]
  },
  {
   "cell_type": "code",
   "execution_count": 34,
   "metadata": {},
   "outputs": [
    {
     "name": "stdout",
     "output_type": "stream",
     "text": [
      "No\n"
     ]
    }
   ],
   "source": [
    "if False:\n",
    "    print('Yes')\n",
    "else:\n",
    "    print('No')"
   ]
  },
  {
   "cell_type": "code",
   "execution_count": 35,
   "metadata": {},
   "outputs": [
    {
     "data": {
      "text/plain": [
       "True"
      ]
     },
     "execution_count": 35,
     "metadata": {},
     "output_type": "execute_result"
    }
   ],
   "source": [
    "1 == 1"
   ]
  },
  {
   "cell_type": "code",
   "execution_count": 36,
   "metadata": {},
   "outputs": [
    {
     "name": "stdout",
     "output_type": "stream",
     "text": [
      "1=1\n"
     ]
    }
   ],
   "source": [
    "if 1 == 1:\n",
    "    print('1=1')"
   ]
  },
  {
   "cell_type": "markdown",
   "metadata": {},
   "source": [
    "# HW\n",
    "เขียน function ตัดเกรด โดยที่ input เป็นคะแนน(0-100) output เป็นเกรด(F-A)\n",
    "input เป็นlist เขียน for ในการตรวจสอบ\n",
    "input = [1,50,65,90,101,-5,49]"
   ]
  },
  {
   "cell_type": "code",
   "execution_count": 51,
   "metadata": {},
   "outputs": [],
   "source": [
    "def Grade(Score):\n",
    "    if 0 <= Score <= 100:\n",
    "        if Score < 50:\n",
    "            print(f'{Score} คะแนน คุณได้เกรด F')\n",
    "        elif 50 >= Score < 55:\n",
    "            print(f'{Score} คะแนน คุณได้เกรด D')\n",
    "        elif 55 >= Score < 60:\n",
    "            print(f'{Score} คะแนน คุณได้เกรด D+')\n",
    "        elif 60 >= Score < 65:\n",
    "            print(f'{Score} คะแนน คุณได้เกรด C')\n",
    "        elif 65 >= Score < 70:\n",
    "            print(f'{Score} คะแนน คุณได้เกรด C+')\n",
    "        elif 70 >= Score < 75:\n",
    "            print(f'{Score} คะแนน คุณได้เกรด B')\n",
    "        elif 75 >= Score < 80:\n",
    "            print(f'{Score} คะแนน คุณได้เกรด B+')\n",
    "        else:\n",
    "            print(f'{Score} คะแนน คุณได้เกรด  A')\n",
    "    else:\n",
    "        print(f'คะแนนไม่ถูกต้อง')"
   ]
  },
  {
   "cell_type": "code",
   "execution_count": 54,
   "metadata": {},
   "outputs": [
    {
     "name": "stdout",
     "output_type": "stream",
     "text": [
      "1 คะแนน คุณได้เกรด F\n",
      "50 คะแนน คุณได้เกรด D\n",
      "65 คะแนน คุณได้เกรด C+\n",
      "90 คะแนน คุณได้เกรด  A\n",
      "คะแนนไม่ถูกต้อง\n",
      "คะแนนไม่ถูกต้อง\n",
      "49 คะแนน คุณได้เกรด F\n"
     ]
    }
   ],
   "source": [
    "Grade(1)\n",
    "Grade(50)\n",
    "Grade(65)\n",
    "Grade(90)\n",
    "Grade(101)\n",
    "Grade(-5)\n",
    "Grade(49)"
   ]
  },
  {
   "cell_type": "code",
   "execution_count": null,
   "metadata": {},
   "outputs": [],
   "source": []
  },
  {
   "cell_type": "code",
   "execution_count": null,
   "metadata": {},
   "outputs": [],
   "source": []
  },
  {
   "cell_type": "code",
   "execution_count": null,
   "metadata": {},
   "outputs": [],
   "source": []
  },
  {
   "cell_type": "code",
   "execution_count": null,
   "metadata": {},
   "outputs": [],
   "source": []
  },
  {
   "cell_type": "code",
   "execution_count": null,
   "metadata": {},
   "outputs": [],
   "source": []
  }
 ],
 "metadata": {
  "kernelspec": {
   "display_name": "Python 3",
   "language": "python",
   "name": "python3"
  },
  "language_info": {
   "codemirror_mode": {
    "name": "ipython",
    "version": 3
   },
   "file_extension": ".py",
   "mimetype": "text/x-python",
   "name": "python",
   "nbconvert_exporter": "python",
   "pygments_lexer": "ipython3",
   "version": "3.7.3"
  }
 },
 "nbformat": 4,
 "nbformat_minor": 2
}
